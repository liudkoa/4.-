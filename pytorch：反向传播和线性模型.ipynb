{
 "cells": [
  {
   "cell_type": "code",
   "execution_count": 1,
   "metadata": {},
   "outputs": [],
   "source": [
    "import torch"
   ]
  },
  {
   "cell_type": "code",
   "execution_count": 2,
   "metadata": {},
   "outputs": [],
   "source": [
    "x = torch.randn(3,4,requires_grad=True) #requires_grad=True 记录操作"
   ]
  },
  {
   "cell_type": "code",
   "execution_count": 3,
   "metadata": {},
   "outputs": [
    {
     "data": {
      "text/plain": [
       "tensor([[ 1.0370, -0.6971, -1.9705,  0.4021],\n",
       "        [-0.2185,  1.3367, -0.9631, -0.3687],\n",
       "        [-1.5128, -0.4238, -0.1397, -0.1173]], requires_grad=True)"
      ]
     },
     "execution_count": 3,
     "metadata": {},
     "output_type": "execute_result"
    }
   ],
   "source": [
    "x"
   ]
  },
  {
   "cell_type": "code",
   "execution_count": 4,
   "metadata": {},
   "outputs": [],
   "source": [
    "b = torch.randn(3,4)\n",
    "b.requires_grad=True"
   ]
  },
  {
   "cell_type": "code",
   "execution_count": 5,
   "metadata": {},
   "outputs": [
    {
     "data": {
      "text/plain": [
       "tensor([[ 0.7116, -1.1579,  0.3331,  0.1143],\n",
       "        [-0.0919,  1.3079,  0.0575, -0.6408],\n",
       "        [-0.7733,  0.4548, -3.0531, -0.5621]], requires_grad=True)"
      ]
     },
     "execution_count": 5,
     "metadata": {},
     "output_type": "execute_result"
    }
   ],
   "source": [
    "b"
   ]
  },
  {
   "cell_type": "code",
   "execution_count": 31,
   "metadata": {},
   "outputs": [],
   "source": [
    "t = x+b"
   ]
  },
  {
   "cell_type": "code",
   "execution_count": 32,
   "metadata": {},
   "outputs": [
    {
     "data": {
      "text/plain": [
       "tensor(-2.8660, grad_fn=<SumBackward0>)"
      ]
     },
     "execution_count": 32,
     "metadata": {},
     "output_type": "execute_result"
    }
   ],
   "source": [
    "y = t.sum()\n",
    "y"
   ]
  },
  {
   "cell_type": "code",
   "execution_count": 33,
   "metadata": {},
   "outputs": [],
   "source": [
    "y.backward() #回代，自动求导"
   ]
  },
  {
   "cell_type": "code",
   "execution_count": 34,
   "metadata": {},
   "outputs": [
    {
     "name": "stdout",
     "output_type": "stream",
     "text": [
      "tensor([[1., 1., 1., 1.],\n",
      "        [1., 1., 1., 1.],\n",
      "        [1., 1., 1., 1.]])\n"
     ]
    }
   ],
   "source": [
    "print(b.grad) #b求导"
   ]
  },
  {
   "cell_type": "code",
   "execution_count": 36,
   "metadata": {},
   "outputs": [
    {
     "data": {
      "text/plain": [
       "(True, True, True)"
      ]
     },
     "execution_count": 36,
     "metadata": {},
     "output_type": "execute_result"
    }
   ],
   "source": [
    "x.requires_grad,b.requires_grad,t.requires_grad #t也被记录操作了"
   ]
  },
  {
   "cell_type": "code",
   "execution_count": 14,
   "metadata": {},
   "outputs": [],
   "source": [
    "x = torch.rand(1)\n",
    "b = torch.rand(1,requires_grad=True)\n",
    "w = torch.rand(1,requires_grad=True)\n",
    "y = w*x\n",
    "z = y+b\n",
    "z.backward()"
   ]
  },
  {
   "cell_type": "code",
   "execution_count": 10,
   "metadata": {},
   "outputs": [
    {
     "data": {
      "text/plain": [
       "(False, True, True, True)"
      ]
     },
     "execution_count": 10,
     "metadata": {},
     "output_type": "execute_result"
    }
   ],
   "source": [
    "x.requires_grad,b.requires_grad,w.requires_grad,y.requires_grad"
   ]
  },
  {
   "cell_type": "code",
   "execution_count": 11,
   "metadata": {},
   "outputs": [
    {
     "data": {
      "text/plain": [
       "(True, False, True, True, False)"
      ]
     },
     "execution_count": 11,
     "metadata": {},
     "output_type": "execute_result"
    }
   ],
   "source": [
    "x.is_leaf,y.is_leaf,b.is_leaf,w.is_leaf,z.is_leaf #是不是叶子"
   ]
  },
  {
   "cell_type": "code",
   "execution_count": 16,
   "metadata": {},
   "outputs": [
    {
     "data": {
      "text/plain": [
       "tensor([0.0310])"
      ]
     },
     "execution_count": 16,
     "metadata": {},
     "output_type": "execute_result"
    }
   ],
   "source": [
    "w.grad"
   ]
  },
  {
   "cell_type": "code",
   "execution_count": 17,
   "metadata": {},
   "outputs": [
    {
     "data": {
      "text/plain": [
       "tensor([1.])"
      ]
     },
     "execution_count": 17,
     "metadata": {},
     "output_type": "execute_result"
    }
   ],
   "source": [
    "b.grad"
   ]
  },
  {
   "cell_type": "code",
   "execution_count": 60,
   "metadata": {},
   "outputs": [],
   "source": [
    "x = torch.rand(1)\n",
    "b = torch.rand(1,requires_grad=True)\n",
    "w = torch.rand(1,requires_grad=True)\n",
    "y = w*x\n",
    "z = y+b\n",
    "z.backward(retain_graph=True)#重复执行梯度"
   ]
  },
  {
   "cell_type": "code",
   "execution_count": 61,
   "metadata": {},
   "outputs": [
    {
     "data": {
      "text/plain": [
       "tensor([0.6438])"
      ]
     },
     "execution_count": 61,
     "metadata": {},
     "output_type": "execute_result"
    }
   ],
   "source": [
    "w.grad"
   ]
  },
  {
   "cell_type": "code",
   "execution_count": 62,
   "metadata": {},
   "outputs": [
    {
     "data": {
      "text/plain": [
       "tensor([1.])"
      ]
     },
     "execution_count": 62,
     "metadata": {},
     "output_type": "execute_result"
    }
   ],
   "source": [
    "b.grad"
   ]
  },
  {
   "cell_type": "code",
   "execution_count": 63,
   "metadata": {},
   "outputs": [
    {
     "data": {
      "text/plain": [
       "tensor([0.6438])"
      ]
     },
     "execution_count": 63,
     "metadata": {},
     "output_type": "execute_result"
    }
   ],
   "source": [
    "w.grad"
   ]
  },
  {
   "cell_type": "code",
   "execution_count": 64,
   "metadata": {},
   "outputs": [
    {
     "data": {
      "text/plain": [
       "tensor([1.])"
      ]
     },
     "execution_count": 64,
     "metadata": {},
     "output_type": "execute_result"
    }
   ],
   "source": [
    "b.grad"
   ]
  },
  {
   "attachments": {
    "image.png": {
     "image/png": "[encoded data removed]"
    }
   },
   "cell_type": "markdown",
   "metadata": {},
   "source": [
    "![image.png](attachment:image.png)"
   ]
  },
  {
   "cell_type": "code",
   "execution_count": 67,
   "metadata": {},
   "outputs": [
    {
     "name": "stdout",
     "output_type": "stream",
     "text": [
      "False\n"
     ]
    }
   ],
   "source": [
    "a = torch.randn(2,2)\n",
    "a = ((a * 3)/(a - 1))\n",
    "print(a.requires_grad)"
   ]
  },
  {
   "cell_type": "code",
   "execution_count": 68,
   "metadata": {},
   "outputs": [
    {
     "data": {
      "text/plain": [
       "tensor([[ 1.3986,  0.2986],\n",
       "        [ 0.5805, -0.1048]], requires_grad=True)"
      ]
     },
     "execution_count": 68,
     "metadata": {},
     "output_type": "execute_result"
    }
   ],
   "source": [
    "a.requires_grad_(True)#修改requires_grad"
   ]
  },
  {
   "cell_type": "code",
   "execution_count": 69,
   "metadata": {},
   "outputs": [],
   "source": [
    "b = (a * a).sum()"
   ]
  },
  {
   "cell_type": "code",
   "execution_count": 74,
   "metadata": {},
   "outputs": [
    {
     "name": "stdout",
     "output_type": "stream",
     "text": [
      "<SumBackward0 object at 0x000001AD8B6B5C50>\n"
     ]
    }
   ],
   "source": [
    "print(b.grad_fn)"
   ]
  },
  {
   "cell_type": "code",
   "execution_count": 75,
   "metadata": {},
   "outputs": [],
   "source": [
    "with torch.no_grad():#拒绝记录追踪操作\n",
    "    c = (a * a).sum()"
   ]
  },
  {
   "cell_type": "code",
   "execution_count": 76,
   "metadata": {},
   "outputs": [
    {
     "name": "stdout",
     "output_type": "stream",
     "text": [
      "None\n"
     ]
    }
   ],
   "source": [
    "print(c.grad_fn)"
   ]
  },
  {
   "cell_type": "code",
   "execution_count": 77,
   "metadata": {},
   "outputs": [
    {
     "name": "stdout",
     "output_type": "stream",
     "text": [
      "False\n"
     ]
    }
   ],
   "source": [
    "print(c.requires_grad)"
   ]
  },
  {
   "cell_type": "code",
   "execution_count": 78,
   "metadata": {},
   "outputs": [],
   "source": [
    "#当数据是向量时调用backward()要传入其他参数，不然会报错"
   ]
  },
  {
   "attachments": {
    "image.png": {
     "image/png": "[encoded data removed]"
    }
   },
   "cell_type": "markdown",
   "metadata": {},
   "source": [
    "![image.png](attachment:image.png)"
   ]
  },
  {
   "cell_type": "code",
   "execution_count": 79,
   "metadata": {},
   "outputs": [
    {
     "data": {
      "text/plain": [
       "tensor([[ 1.3986,  0.2986],\n",
       "        [ 0.5805, -0.1048]], requires_grad=True)"
      ]
     },
     "execution_count": 79,
     "metadata": {},
     "output_type": "execute_result"
    }
   ],
   "source": [
    "a"
   ]
  },
  {
   "cell_type": "code",
   "execution_count": 83,
   "metadata": {},
   "outputs": [
    {
     "data": {
      "text/plain": [
       "tensor([[ 1.3986,  0.2986],\n",
       "        [ 0.5805, -0.1048]])"
      ]
     },
     "execution_count": 83,
     "metadata": {},
     "output_type": "execute_result"
    }
   ],
   "source": [
    "a.data  #只提取数据"
   ]
  },
  {
   "cell_type": "code",
   "execution_count": 91,
   "metadata": {},
   "outputs": [
    {
     "data": {
      "text/plain": [
       "tensor([[ 1.3986,  0.2986],\n",
       "        [ 0.5805, -0.1048]])"
      ]
     },
     "execution_count": 91,
     "metadata": {},
     "output_type": "execute_result"
    }
   ],
   "source": [
    "a.detach() #只提取数据"
   ]
  },
  {
   "cell_type": "code",
   "execution_count": 88,
   "metadata": {},
   "outputs": [
    {
     "ename": "RuntimeError",
     "evalue": "Can't call numpy() on Tensor that requires grad. Use tensor.detach().numpy() instead.",
     "output_type": "error",
     "traceback": [
      "\u001b[1;31m---------------------------------------------------------------------------\u001b[0m",
      "\u001b[1;31mRuntimeError\u001b[0m                              Traceback (most recent call last)",
      "\u001b[1;32m<ipython-input-88-787540d4590d>\u001b[0m in \u001b[0;36m<module>\u001b[1;34m()\u001b[0m\n\u001b[1;32m----> 1\u001b[1;33m \u001b[0ma\u001b[0m\u001b[1;33m.\u001b[0m\u001b[0mnumpy\u001b[0m\u001b[1;33m(\u001b[0m\u001b[1;33m)\u001b[0m\u001b[1;33m\u001b[0m\u001b[0m\n\u001b[0m",
      "\u001b[1;31mRuntimeError\u001b[0m: Can't call numpy() on Tensor that requires grad. Use tensor.detach().numpy() instead."
     ]
    }
   ],
   "source": [
    "a.numpy() #带requires_grad不能直接转化numpy格式"
   ]
  },
  {
   "cell_type": "code",
   "execution_count": 87,
   "metadata": {},
   "outputs": [
    {
     "data": {
      "text/plain": [
       "array([[ 1.3985527 ,  0.29861763],\n",
       "       [ 0.58051294, -0.10484292]], dtype=float32)"
      ]
     },
     "execution_count": 87,
     "metadata": {},
     "output_type": "execute_result"
    }
   ],
   "source": [
    "a.data.numpy()"
   ]
  },
  {
   "cell_type": "code",
   "execution_count": 90,
   "metadata": {},
   "outputs": [
    {
     "data": {
      "text/plain": [
       "array([[ 1.3985527 ,  0.29861763],\n",
       "       [ 0.58051294, -0.10484292]], dtype=float32)"
      ]
     },
     "execution_count": 90,
     "metadata": {},
     "output_type": "execute_result"
    }
   ],
   "source": [
    "a.detach().numpy()"
   ]
  },
  {
   "cell_type": "markdown",
   "metadata": {},
   "source": [
    "### 线性回归:迭代出结果"
   ]
  },
  {
   "cell_type": "code",
   "execution_count": 118,
   "metadata": {},
   "outputs": [],
   "source": [
    "import numpy as np\n",
    "import pandas as pd\n",
    "import matplotlib.pyplot as plt "
   ]
  },
  {
   "cell_type": "code",
   "execution_count": 119,
   "metadata": {},
   "outputs": [],
   "source": [
    "x = torch.rand([50])"
   ]
  },
  {
   "cell_type": "code",
   "execution_count": 120,
   "metadata": {},
   "outputs": [],
   "source": [
    "y = 3*x + 0.8"
   ]
  },
  {
   "cell_type": "code",
   "execution_count": 136,
   "metadata": {},
   "outputs": [],
   "source": [
    "w = torch.rand(1,requires_grad=True)\n",
    "b = torch.zeros(1,requires_grad=True)\n",
    "loss_list=[]"
   ]
  },
  {
   "cell_type": "code",
   "execution_count": 137,
   "metadata": {},
   "outputs": [],
   "source": [
    "def loss_fn(y,y_predict):\n",
    "    loss=(y_predict-y).pow(2).mean()\n",
    "    loss_list.append(loss.data)\n",
    "    for i in[w,b]:\n",
    "        #每次反向前把梯度置为0\n",
    "        if i.grad is not None:\n",
    "            i.grad.data.zero_()\n",
    "    loss.backward()\n",
    "    return loss.data    \n",
    "def optimize(learning_rate): #梯度下降\n",
    "    w.data = w.data -learning_rate*w.grad.data\n",
    "    b.data = b.data -learning_rate*b.grad.data"
   ]
  },
  {
   "attachments": {
    "image.png": {
     "image/png": "[encoded data removed]"
    }
   },
   "cell_type": "markdown",
   "metadata": {},
   "source": [
    "![image.png](attachment:image.png)"
   ]
  },
  {
   "cell_type": "code",
   "execution_count": 138,
   "metadata": {},
   "outputs": [],
   "source": [
    "for i in range(7000): #梯度下降3000次\n",
    "    y_predict = x*w + b\n",
    "    loss = loss_fn(y,y_predict)\n",
    "    learning_rate=0.01\n",
    "    optimize(learning_rate)"
   ]
  },
  {
   "cell_type": "code",
   "execution_count": 139,
   "metadata": {},
   "outputs": [
    {
     "data": {
      "text/plain": [
       "tensor(2.5620e-09)"
      ]
     },
     "execution_count": 139,
     "metadata": {},
     "output_type": "execute_result"
    }
   ],
   "source": [
    "loss"
   ]
  },
  {
   "cell_type": "code",
   "execution_count": 140,
   "metadata": {},
   "outputs": [
    {
     "data": {
      "text/plain": [
       "tensor([2.9998], requires_grad=True)"
      ]
     },
     "execution_count": 140,
     "metadata": {},
     "output_type": "execute_result"
    }
   ],
   "source": [
    "w"
   ]
  },
  {
   "cell_type": "code",
   "execution_count": 141,
   "metadata": {},
   "outputs": [
    {
     "data": {
      "text/plain": [
       "tensor([0.8001], requires_grad=True)"
      ]
     },
     "execution_count": 141,
     "metadata": {},
     "output_type": "execute_result"
    }
   ],
   "source": [
    "b"
   ]
  },
  {
   "cell_type": "code",
   "execution_count": 142,
   "metadata": {},
   "outputs": [
    {
     "data": {
      "text/plain": [
       "[<matplotlib.lines.Line2D at 0x1ad92dec8d0>]"
      ]
     },
     "execution_count": 142,
     "metadata": {},
     "output_type": "execute_result"
    },
    {
     "data": {
      "image/png": "[encoded data removed]",
      "text/plain": [
       "<Figure size 432x288 with 1 Axes>"
      ]
     },
     "metadata": {
      "needs_background": "light"
     },
     "output_type": "display_data"
    }
   ],
   "source": [
    "plt.plot(range(7000),loss_list) #迭代效果"
   ]
  },
  {
   "cell_type": "code",
   "execution_count": 160,
   "metadata": {},
   "outputs": [],
   "source": [
    "from sklearn.linear_model import LinearRegression as LR"
   ]
  },
  {
   "cell_type": "code",
   "execution_count": 164,
   "metadata": {},
   "outputs": [],
   "source": [
    "kk=LR().fit(x.data.numpy().reshape(50,1),y.data.numpy().reshape(-1))"
   ]
  },
  {
   "cell_type": "code",
   "execution_count": 165,
   "metadata": {},
   "outputs": [
    {
     "data": {
      "text/plain": [
       "array([3.], dtype=float32)"
      ]
     },
     "execution_count": 165,
     "metadata": {},
     "output_type": "execute_result"
    }
   ],
   "source": [
    "kk.coef_"
   ]
  },
  {
   "cell_type": "code",
   "execution_count": 166,
   "metadata": {},
   "outputs": [
    {
     "data": {
      "text/plain": [
       "0.79999983"
      ]
     },
     "execution_count": 166,
     "metadata": {},
     "output_type": "execute_result"
    }
   ],
   "source": [
    "kk.intercept_"
   ]
  },
  {
   "cell_type": "code",
   "execution_count": 1,
   "metadata": {},
   "outputs": [
    {
     "name": "stdout",
     "output_type": "stream",
     "text": [
      "tensor([1.4670, 1.0264, 1.2506, 1.6048, 1.3830, 1.3002, 1.4242, 1.8668, 1.0346,\n",
      "        1.6649, 1.7218, 1.3534, 1.4662, 1.2158, 1.8693, 1.6637, 1.7533, 1.8722,\n",
      "        1.5259, 1.1032, 1.4800, 1.1453, 1.9698, 1.0474, 1.4137, 1.8305, 1.0997,\n",
      "        1.8342, 1.9150, 1.4144, 1.5310, 1.3139, 1.9887, 1.2845, 1.6719, 1.5002,\n",
      "        1.0857, 1.4530, 1.4677, 1.5325, 1.1113, 1.6912, 1.8922, 1.2985, 1.7316,\n",
      "        1.7989, 1.4950, 1.4477, 1.5188, 1.2192], device='cuda:0')\n",
      "tensor([1.4670, 1.0264, 1.2506, 1.6048, 1.3830, 1.3002, 1.4242, 1.8668, 1.0346,\n",
      "        1.6649, 1.7218, 1.3534, 1.4662, 1.2158, 1.8693, 1.6637, 1.7533, 1.8722,\n",
      "        1.5259, 1.1032, 1.4800, 1.1453, 1.9698, 1.0474, 1.4137, 1.8305, 1.0997,\n",
      "        1.8342, 1.9150, 1.4144, 1.5310, 1.3139, 1.9887, 1.2845, 1.6719, 1.5002,\n",
      "        1.0857, 1.4530, 1.4677, 1.5325, 1.1113, 1.6912, 1.8922, 1.2985, 1.7316,\n",
      "        1.7989, 1.4950, 1.4477, 1.5188, 1.2192], dtype=torch.float64)\n"
     ]
    }
   ],
   "source": [
    "import torch\n",
    "import numpy as np\n",
    "import pandas as pd\n",
    "import matplotlib.pyplot as plt \n",
    "if torch.cuda.is_available():\n",
    "    x = torch.rand([50])\n",
    "    device = torch.device(\"cuda\")\n",
    "    y = torch.ones_like(x,device=device)\n",
    "    x = x.to(device)\n",
    "    z = x+y\n",
    "    print(z)\n",
    "    print(z.to(\"cpu\",torch.double))"
   ]
  },
  {
   "cell_type": "code",
   "execution_count": 2,
   "metadata": {},
   "outputs": [
    {
     "data": {
      "text/plain": [
       "array([1., 1., 1., 1., 1., 1., 1., 1., 1., 1., 1., 1., 1., 1., 1., 1., 1.,\n",
       "       1., 1., 1., 1., 1., 1., 1., 1., 1., 1., 1., 1., 1., 1., 1., 1., 1.,\n",
       "       1., 1., 1., 1., 1., 1., 1., 1., 1., 1., 1., 1., 1., 1., 1., 1.],\n",
       "      dtype=float32)"
      ]
     },
     "execution_count": 2,
     "metadata": {},
     "output_type": "execute_result"
    }
   ],
   "source": [
    "y.to('cpu').data.numpy()"
   ]
  },
  {
   "cell_type": "code",
   "execution_count": 5,
   "metadata": {},
   "outputs": [
    {
     "data": {
      "text/plain": [
       "array([1., 1., 1., 1., 1., 1., 1., 1., 1., 1., 1., 1., 1., 1., 1., 1., 1.,\n",
       "       1., 1., 1., 1., 1., 1., 1., 1., 1., 1., 1., 1., 1., 1., 1., 1., 1.,\n",
       "       1., 1., 1., 1., 1., 1., 1., 1., 1., 1., 1., 1., 1., 1., 1., 1.],\n",
       "      dtype=float32)"
      ]
     },
     "execution_count": 5,
     "metadata": {},
     "output_type": "execute_result"
    }
   ],
   "source": [
    "y.cpu().data.numpy()"
   ]
  },
  {
   "cell_type": "code",
   "execution_count": 7,
   "metadata": {},
   "outputs": [
    {
     "name": "stdout",
     "output_type": "stream",
     "text": [
      "[2. 2. 2. 2. 2.]\n"
     ]
    }
   ],
   "source": [
    "a = np.ones(5)\n",
    "b = torch.from_numpy(a)\n",
    "np.add(a,1,out=a)\n",
    "print(a)"
   ]
  },
  {
   "cell_type": "code",
   "execution_count": 8,
   "metadata": {},
   "outputs": [
    {
     "name": "stdout",
     "output_type": "stream",
     "text": [
      "tensor([2., 2., 2., 2., 2.], dtype=torch.float64)\n"
     ]
    }
   ],
   "source": [
    "print(b) #a和b内存共享"
   ]
  },
  {
   "cell_type": "code",
   "execution_count": 9,
   "metadata": {},
   "outputs": [
    {
     "data": {
      "text/plain": [
       "array([3., 3., 3., 3., 3.])"
      ]
     },
     "execution_count": 9,
     "metadata": {},
     "output_type": "execute_result"
    }
   ],
   "source": [
    "a = a + 1\n",
    "a"
   ]
  },
  {
   "cell_type": "code",
   "execution_count": 10,
   "metadata": {},
   "outputs": [
    {
     "data": {
      "text/plain": [
       "tensor([2., 2., 2., 2., 2.], dtype=torch.float64)"
      ]
     },
     "execution_count": 10,
     "metadata": {},
     "output_type": "execute_result"
    }
   ],
   "source": [
    "b"
   ]
  },
  {
   "cell_type": "code",
   "execution_count": 11,
   "metadata": {},
   "outputs": [
    {
     "data": {
      "text/plain": [
       "tensor([1., 1., 1., 1., 1., 1., 1., 1., 1., 1., 1., 1., 1., 1., 1., 1., 1., 1.,\n",
       "        1., 1., 1., 1., 1., 1., 1., 1., 1., 1., 1., 1., 1., 1., 1., 1., 1., 1.,\n",
       "        1., 1., 1., 1., 1., 1., 1., 1., 1., 1., 1., 1., 1., 1.])"
      ]
     },
     "execution_count": 11,
     "metadata": {},
     "output_type": "execute_result"
    }
   ],
   "source": [
    "y.cpu()"
   ]
  },
  {
   "cell_type": "code",
   "execution_count": 33,
   "metadata": {},
   "outputs": [
    {
     "data": {
      "text/plain": [
       "array([[19, 19, 13, 10, 17],\n",
       "       [10, 18, 13, 13, 14],\n",
       "       [17, 12, 19, 16, 11],\n",
       "       [13, 16, 12, 15, 14],\n",
       "       [11, 19, 15, 17, 12]])"
      ]
     },
     "execution_count": 33,
     "metadata": {},
     "output_type": "execute_result"
    }
   ],
   "source": [
    "kk=np.random.randint(10,20,(5,5))\n",
    "kk"
   ]
  },
  {
   "cell_type": "code",
   "execution_count": 34,
   "metadata": {},
   "outputs": [
    {
     "data": {
      "text/plain": [
       "array([[19, 19, 13, 10, 17],\n",
       "       [10, 18, 13, 13, 14],\n",
       "       [17, 12, 19, 16, 11],\n",
       "       [13, 16, 12, 15, 14],\n",
       "       [11, 19, 15, 17, 12]])"
      ]
     },
     "execution_count": 34,
     "metadata": {},
     "output_type": "execute_result"
    }
   ],
   "source": [
    "np.maximum(kk,0)"
   ]
  },
  {
   "cell_type": "code",
   "execution_count": 30,
   "metadata": {},
   "outputs": [],
   "source": [
    "x_1=torch.randint(5,10,(5,5))\n",
    "w_1=torch.randint(1,5,(5,5))"
   ]
  },
  {
   "cell_type": "code",
   "execution_count": 40,
   "metadata": {},
   "outputs": [
    {
     "data": {
      "text/plain": [
       "tensor([[2, 3, 4, 1, 4],\n",
       "        [2, 2, 4, 4, 4],\n",
       "        [1, 2, 3, 4, 2],\n",
       "        [2, 1, 1, 4, 3],\n",
       "        [3, 4, 2, 1, 2]])"
      ]
     },
     "execution_count": 40,
     "metadata": {},
     "output_type": "execute_result"
    }
   ],
   "source": [
    "w_1"
   ]
  },
  {
   "cell_type": "code",
   "execution_count": 37,
   "metadata": {},
   "outputs": [
    {
     "data": {
      "text/plain": [
       "tensor([[ 62,  72,  88,  88,  97],\n",
       "        [ 67,  81, 102,  94, 108],\n",
       "        [ 81,  99, 118, 116, 123],\n",
       "        [ 73,  89, 103,  99, 108],\n",
       "        [ 75,  88, 101, 106, 110]])"
      ]
     },
     "execution_count": 37,
     "metadata": {},
     "output_type": "execute_result"
    }
   ],
   "source": [
    "x_1.mm(w_1) #矩阵的乘法，torch里面的,等价于numpy里面的dot"
   ]
  },
  {
   "cell_type": "code",
   "execution_count": 41,
   "metadata": {},
   "outputs": [
    {
     "data": {
      "text/plain": [
       "tensor([[2, 3, 4, 1, 4],\n",
       "        [2, 2, 4, 4, 4],\n",
       "        [1, 2, 3, 4, 2],\n",
       "        [2, 1, 1, 4, 3],\n",
       "        [3, 4, 2, 1, 2]])"
      ]
     },
     "execution_count": 41,
     "metadata": {},
     "output_type": "execute_result"
    }
   ],
   "source": [
    "w_1.clamp(min=0) #夹子，如果有小于0用0替代"
   ]
  },
  {
   "cell_type": "code",
   "execution_count": 60,
   "metadata": {},
   "outputs": [
    {
     "name": "stdout",
     "output_type": "stream",
     "text": [
      "0 689.2529907226562\n",
      "1 688.6873779296875\n",
      "2 688.1226196289062\n",
      "3 687.559326171875\n",
      "4 686.9970703125\n",
      "5 686.4357299804688\n",
      "6 685.8757934570312\n",
      "7 685.3167724609375\n",
      "8 684.7586669921875\n",
      "9 684.201171875\n",
      "10 683.6444702148438\n",
      "11 683.0886840820312\n",
      "12 682.53369140625\n",
      "13 681.979248046875\n",
      "14 681.4260864257812\n",
      "15 680.8738403320312\n",
      "16 680.32275390625\n",
      "17 679.7728881835938\n",
      "18 679.22412109375\n",
      "19 678.6760864257812\n",
      "20 678.1290283203125\n",
      "21 677.5831298828125\n",
      "22 677.0383911132812\n",
      "23 676.4942626953125\n",
      "24 675.9510498046875\n",
      "25 675.4088134765625\n",
      "26 674.8673095703125\n",
      "27 674.3265991210938\n",
      "28 673.7872924804688\n",
      "29 673.2489624023438\n",
      "30 672.7113037109375\n",
      "31 672.1747436523438\n",
      "32 671.6419067382812\n",
      "33 671.110107421875\n",
      "34 670.5797119140625\n",
      "35 670.050048828125\n",
      "36 669.5209350585938\n",
      "37 668.9928588867188\n",
      "38 668.465087890625\n",
      "39 667.93798828125\n",
      "40 667.4117431640625\n",
      "41 666.8861694335938\n",
      "42 666.3618774414062\n",
      "43 665.8389282226562\n",
      "44 665.31640625\n",
      "45 664.7945556640625\n",
      "46 664.2734985351562\n",
      "47 663.75341796875\n",
      "48 663.2342529296875\n",
      "49 662.7156982421875\n",
      "50 662.197998046875\n",
      "51 661.6820068359375\n",
      "52 661.1666870117188\n",
      "53 660.6519775390625\n",
      "54 660.1378173828125\n",
      "55 659.6243286132812\n",
      "56 659.1115112304688\n",
      "57 658.5994873046875\n",
      "58 658.0880737304688\n",
      "59 657.5771484375\n",
      "60 657.0673217773438\n",
      "61 656.5579833984375\n",
      "62 656.0494384765625\n",
      "63 655.54150390625\n",
      "64 655.0344848632812\n",
      "65 654.5281982421875\n",
      "66 654.022705078125\n",
      "67 653.5179443359375\n",
      "68 653.0137939453125\n",
      "69 652.510009765625\n",
      "70 652.00634765625\n",
      "71 651.5040283203125\n",
      "72 651.0034790039062\n",
      "73 650.5042114257812\n",
      "74 650.0056762695312\n",
      "75 649.5082397460938\n",
      "76 649.0115966796875\n",
      "77 648.515869140625\n",
      "78 648.0206298828125\n",
      "79 647.5269165039062\n",
      "80 647.0341796875\n",
      "81 646.5421142578125\n",
      "82 646.0511474609375\n",
      "83 645.5614013671875\n",
      "84 645.0736083984375\n",
      "85 644.5866088867188\n",
      "86 644.1002197265625\n",
      "87 643.61474609375\n",
      "88 643.1307983398438\n",
      "89 642.6484375\n",
      "90 642.1666870117188\n",
      "91 641.6853637695312\n",
      "92 641.2046508789062\n",
      "93 640.7245483398438\n",
      "94 640.244873046875\n",
      "95 639.7661743164062\n",
      "96 639.2879638671875\n",
      "97 638.810546875\n",
      "98 638.3338623046875\n",
      "99 637.857421875\n",
      "100 637.3826904296875\n",
      "101 636.90869140625\n",
      "102 636.435302734375\n",
      "103 635.962646484375\n",
      "104 635.4912109375\n",
      "105 635.020751953125\n",
      "106 634.5509033203125\n",
      "107 634.0816650390625\n",
      "108 633.6130981445312\n",
      "109 633.145751953125\n",
      "110 632.6793212890625\n",
      "111 632.2135620117188\n",
      "112 631.7484741210938\n",
      "113 631.2841186523438\n",
      "114 630.8202514648438\n",
      "115 630.3572387695312\n",
      "116 629.8945922851562\n",
      "117 629.4322509765625\n",
      "118 628.9708862304688\n",
      "119 628.5103149414062\n",
      "120 628.05029296875\n",
      "121 627.5909423828125\n",
      "122 627.1319580078125\n",
      "123 626.6735229492188\n",
      "124 626.2156372070312\n",
      "125 625.7583618164062\n",
      "126 625.3014526367188\n",
      "127 624.8453369140625\n",
      "128 624.3898315429688\n",
      "129 623.9351196289062\n",
      "130 623.48095703125\n",
      "131 623.0272827148438\n",
      "132 622.5745849609375\n",
      "133 622.1223754882812\n",
      "134 621.670654296875\n",
      "135 621.2193603515625\n",
      "136 620.7683715820312\n",
      "137 620.3179321289062\n",
      "138 619.8682250976562\n",
      "139 619.419677734375\n",
      "140 618.971435546875\n",
      "141 618.5234985351562\n",
      "142 618.0760498046875\n",
      "143 617.6292114257812\n",
      "144 617.1829833984375\n",
      "145 616.7374877929688\n",
      "146 616.2924194335938\n",
      "147 615.8478393554688\n",
      "148 615.40380859375\n",
      "149 614.9603271484375\n",
      "150 614.5172119140625\n",
      "151 614.0743408203125\n",
      "152 613.6318969726562\n",
      "153 613.18994140625\n",
      "154 612.7483520507812\n",
      "155 612.307373046875\n",
      "156 611.86669921875\n",
      "157 611.4265747070312\n",
      "158 610.9867553710938\n",
      "159 610.5478515625\n",
      "160 610.1098022460938\n",
      "161 609.6727294921875\n",
      "162 609.2363891601562\n",
      "163 608.8006591796875\n",
      "164 608.3653564453125\n",
      "165 607.930419921875\n",
      "166 607.4961547851562\n",
      "167 607.0626220703125\n",
      "168 606.6295166015625\n",
      "169 606.1975708007812\n",
      "170 605.765869140625\n",
      "171 605.3348388671875\n",
      "172 604.9052734375\n",
      "173 604.4766235351562\n",
      "174 604.048583984375\n",
      "175 603.6211547851562\n",
      "176 603.194580078125\n",
      "177 602.7691650390625\n",
      "178 602.34423828125\n",
      "179 601.9197387695312\n",
      "180 601.4956665039062\n",
      "181 601.072021484375\n",
      "182 600.6487426757812\n",
      "183 600.226318359375\n",
      "184 599.8043212890625\n",
      "185 599.3829345703125\n",
      "186 598.9617919921875\n",
      "187 598.5411987304688\n",
      "188 598.12109375\n",
      "189 597.7015991210938\n",
      "190 597.2833251953125\n",
      "191 596.8660888671875\n",
      "192 596.4490966796875\n",
      "193 596.032470703125\n",
      "194 595.6163330078125\n",
      "195 595.2010498046875\n",
      "196 594.786865234375\n",
      "197 594.373046875\n",
      "198 593.9598388671875\n",
      "199 593.5471801757812\n",
      "200 593.1350708007812\n",
      "201 592.7236328125\n",
      "202 592.3128051757812\n",
      "203 591.902587890625\n",
      "204 591.49267578125\n",
      "205 591.08349609375\n",
      "206 590.6746826171875\n",
      "207 590.2662963867188\n",
      "208 589.858642578125\n",
      "209 589.4527587890625\n",
      "210 589.0473022460938\n",
      "211 588.6422119140625\n",
      "212 588.2378540039062\n",
      "213 587.8335571289062\n",
      "214 587.4298095703125\n",
      "215 587.026611328125\n",
      "216 586.623779296875\n",
      "217 586.22119140625\n",
      "218 585.819091796875\n",
      "219 585.4177856445312\n",
      "220 585.0172119140625\n",
      "221 584.6168212890625\n",
      "222 584.2169189453125\n",
      "223 583.8171997070312\n",
      "224 583.4183349609375\n",
      "225 583.0197143554688\n",
      "226 582.621337890625\n",
      "227 582.22314453125\n",
      "228 581.8255004882812\n",
      "229 581.4282836914062\n",
      "230 581.031494140625\n",
      "231 580.6353759765625\n",
      "232 580.2393188476562\n",
      "233 579.8436889648438\n",
      "234 579.44873046875\n",
      "235 579.0548095703125\n",
      "236 578.6614990234375\n",
      "237 578.268798828125\n",
      "238 577.8764038085938\n",
      "239 577.4845581054688\n",
      "240 577.0930786132812\n",
      "241 576.7022705078125\n",
      "242 576.3121337890625\n",
      "243 575.9223022460938\n",
      "244 575.5341186523438\n",
      "245 575.1465454101562\n",
      "246 574.7595825195312\n",
      "247 574.3733520507812\n",
      "248 573.987548828125\n",
      "249 573.6022338867188\n",
      "250 573.2174072265625\n",
      "251 572.8329467773438\n",
      "252 572.4488525390625\n",
      "253 572.065185546875\n",
      "254 571.6819458007812\n",
      "255 571.2991333007812\n",
      "256 570.9169921875\n",
      "257 570.53515625\n",
      "258 570.15380859375\n",
      "259 569.7730712890625\n",
      "260 569.3926391601562\n",
      "261 569.0123291015625\n",
      "262 568.633056640625\n",
      "263 568.2550048828125\n",
      "264 567.8773193359375\n",
      "265 567.4998779296875\n",
      "266 567.1228637695312\n",
      "267 566.7461547851562\n",
      "268 566.3704833984375\n",
      "269 565.9950561523438\n",
      "270 565.6203002929688\n",
      "271 565.2460327148438\n",
      "272 564.8720703125\n",
      "273 564.4987182617188\n",
      "274 564.1265258789062\n",
      "275 563.7549438476562\n",
      "276 563.3844604492188\n",
      "277 563.0142822265625\n",
      "278 562.6441040039062\n",
      "279 562.2747802734375\n",
      "280 561.90625\n",
      "281 561.5380859375\n",
      "282 561.1699829101562\n",
      "283 560.8023071289062\n",
      "284 560.434814453125\n",
      "285 560.0678100585938\n",
      "286 559.701171875\n",
      "287 559.3348388671875\n",
      "288 558.9686279296875\n",
      "289 558.602783203125\n",
      "290 558.2372436523438\n",
      "291 557.8720092773438\n",
      "292 557.506591796875\n",
      "293 557.1415405273438\n",
      "294 556.77685546875\n",
      "295 556.412353515625\n",
      "296 556.048828125\n",
      "297 555.68603515625\n",
      "298 555.3238525390625\n",
      "299 554.9624633789062\n",
      "300 554.601318359375\n",
      "301 554.2403564453125\n",
      "302 553.879638671875\n",
      "303 553.519775390625\n",
      "304 553.1604614257812\n",
      "305 552.8013305664062\n",
      "306 552.4425048828125\n",
      "307 552.084228515625\n",
      "308 551.726318359375\n",
      "309 551.3687133789062\n",
      "310 551.0115356445312\n",
      "311 550.6548461914062\n",
      "312 550.2985229492188\n",
      "313 549.9423217773438\n",
      "314 549.5864868164062\n",
      "315 549.2318115234375\n",
      "316 548.87744140625\n",
      "317 548.523681640625\n",
      "318 548.1702270507812\n",
      "319 547.8167724609375\n",
      "320 547.4636840820312\n",
      "321 547.1109008789062\n",
      "322 546.7583618164062\n",
      "323 546.4059448242188\n",
      "324 546.0540771484375\n",
      "325 545.7025146484375\n",
      "326 545.351318359375\n",
      "327 545.000732421875\n",
      "328 544.650146484375\n",
      "329 544.3001098632812\n",
      "330 543.949951171875\n",
      "331 543.6002807617188\n",
      "332 543.2507934570312\n",
      "333 542.9015502929688\n",
      "334 542.5527954101562\n",
      "335 542.2037353515625\n",
      "336 541.8548583984375\n",
      "337 541.50634765625\n",
      "338 541.1582641601562\n",
      "339 540.8101806640625\n",
      "340 540.46240234375\n",
      "341 540.1149291992188\n",
      "342 539.7677001953125\n",
      "343 539.4208374023438\n",
      "344 539.0743408203125\n",
      "345 538.7279052734375\n",
      "346 538.3821411132812\n",
      "347 538.0371704101562\n",
      "348 537.69287109375\n",
      "349 537.349609375\n",
      "350 537.0065307617188\n",
      "351 536.66357421875\n",
      "352 536.3209228515625\n",
      "353 535.9791259765625\n",
      "354 535.6376342773438\n",
      "355 535.2965087890625\n",
      "356 534.9556884765625\n",
      "357 534.6151733398438\n",
      "358 534.27490234375\n",
      "359 533.9348754882812\n",
      "360 533.5956420898438\n",
      "361 533.2566528320312\n",
      "362 532.9181518554688\n",
      "363 532.5798950195312\n",
      "364 532.241943359375\n",
      "365 531.904296875\n",
      "366 531.5670166015625\n",
      "367 531.22998046875\n",
      "368 530.8934326171875\n",
      "369 530.557373046875\n",
      "370 530.2216186523438\n",
      "371 529.8863525390625\n",
      "372 529.55126953125\n",
      "373 529.2164916992188\n",
      "374 528.8823852539062\n",
      "375 528.5482177734375\n",
      "376 528.2142944335938\n",
      "377 527.8807983398438\n",
      "378 527.5474853515625\n",
      "379 527.2142944335938\n",
      "380 526.8814086914062\n",
      "381 526.5487060546875\n",
      "382 526.2164306640625\n",
      "383 525.88427734375\n",
      "384 525.5523071289062\n",
      "385 525.220703125\n",
      "386 524.8892822265625\n"
     ]
    },
    {
     "name": "stdout",
     "output_type": "stream",
     "text": [
      "387 524.558349609375\n",
      "388 524.2276000976562\n",
      "389 523.897216796875\n",
      "390 523.5672607421875\n",
      "391 523.237548828125\n",
      "392 522.9083862304688\n",
      "393 522.57958984375\n",
      "394 522.2514038085938\n",
      "395 521.9234619140625\n",
      "396 521.595703125\n",
      "397 521.268310546875\n",
      "398 520.941650390625\n",
      "399 520.615234375\n",
      "400 520.2890625\n",
      "401 519.9631958007812\n",
      "402 519.6373901367188\n",
      "403 519.3120727539062\n",
      "404 518.987060546875\n",
      "405 518.6621704101562\n",
      "406 518.337646484375\n",
      "407 518.0135498046875\n",
      "408 517.6900634765625\n",
      "409 517.367431640625\n",
      "410 517.0452880859375\n",
      "411 516.7232666015625\n",
      "412 516.4016723632812\n",
      "413 516.0802001953125\n",
      "414 515.759033203125\n",
      "415 515.4381713867188\n",
      "416 515.1175537109375\n",
      "417 514.7973022460938\n",
      "418 514.4776000976562\n",
      "419 514.1581420898438\n",
      "420 513.8388061523438\n",
      "421 513.5201416015625\n",
      "422 513.2022094726562\n",
      "423 512.8843994140625\n",
      "424 512.5668334960938\n",
      "425 512.24951171875\n",
      "426 511.9322814941406\n",
      "427 511.6153869628906\n",
      "428 511.2989807128906\n",
      "429 510.98291015625\n",
      "430 510.6669921875\n",
      "431 510.3515625\n",
      "432 510.03643798828125\n",
      "433 509.72174072265625\n",
      "434 509.4075927734375\n",
      "435 509.0935363769531\n",
      "436 508.7796630859375\n",
      "437 508.466064453125\n",
      "438 508.1528015136719\n",
      "439 507.8395080566406\n",
      "440 507.5265197753906\n",
      "441 507.2137451171875\n",
      "442 506.9012145996094\n",
      "443 506.5892639160156\n",
      "444 506.27825927734375\n",
      "445 505.96734619140625\n",
      "446 505.6568603515625\n",
      "447 505.3464660644531\n",
      "448 505.0360107421875\n",
      "449 504.725830078125\n",
      "450 504.4158935546875\n",
      "451 504.10601806640625\n",
      "452 503.7967224121094\n",
      "453 503.4875793457031\n",
      "454 503.17877197265625\n",
      "455 502.87042236328125\n",
      "456 502.562255859375\n",
      "457 502.25421142578125\n",
      "458 501.9464111328125\n",
      "459 501.63897705078125\n",
      "460 501.33172607421875\n",
      "461 501.02490234375\n",
      "462 500.7190246582031\n",
      "463 500.4140319824219\n",
      "464 500.1097106933594\n",
      "465 499.8055114746094\n",
      "466 499.5015563964844\n",
      "467 499.19781494140625\n",
      "468 498.8944396972656\n",
      "469 498.59130859375\n",
      "470 498.28948974609375\n",
      "471 497.98834228515625\n",
      "472 497.6873474121094\n",
      "473 497.38677978515625\n",
      "474 497.0869445800781\n",
      "475 496.7877197265625\n",
      "476 496.4886169433594\n",
      "477 496.189697265625\n",
      "478 495.8908386230469\n",
      "479 495.5921936035156\n",
      "480 495.29400634765625\n",
      "481 494.995849609375\n",
      "482 494.69830322265625\n",
      "483 494.40069580078125\n",
      "484 494.1036682128906\n",
      "485 493.806884765625\n",
      "486 493.51019287109375\n",
      "487 493.21417236328125\n",
      "488 492.91839599609375\n",
      "489 492.6227722167969\n",
      "490 492.3272399902344\n",
      "491 492.0321044921875\n",
      "492 491.73712158203125\n",
      "493 491.4421691894531\n",
      "494 491.14764404296875\n",
      "495 490.8532409667969\n",
      "496 490.55914306640625\n",
      "497 490.26531982421875\n",
      "498 489.9716796875\n",
      "499 489.6781311035156\n",
      "Parameter containing:\n",
      "tensor([ 0.0138,  0.0867,  0.0087, -0.0420, -0.0202, -0.0614,  0.0580, -0.0755,\n",
      "         0.0235, -0.0043], requires_grad=True)\n"
     ]
    }
   ],
   "source": [
    "x=torch.randn(64,1000)\n",
    "y=torch.randn(64,10)\n",
    "learning_rate=0.000001\n",
    "from torch import nn \n",
    "N,D_in,H,D_out = 64,1000,100,10\n",
    "x = torch.randn(N,D_in)\n",
    "y = torch.randn(N,D_out)\n",
    "model = nn.Sequential(nn.Linear(D_in,H),\n",
    "                      nn.ReLU(),\n",
    "                      nn.Linear(H,D_out))\n",
    "loss_fn = nn.MSELoss(reduction='sum')\n",
    "for i in range(500):\n",
    "    y_predict = model(x)\n",
    "    loss =loss_fn(y_predict,y)\n",
    "    print(i,loss.item())\n",
    "    model.zero_grad()\n",
    "    loss.backward()\n",
    "    with torch.no_grad():\n",
    "        for param in model.parameters():\n",
    "            param -= learning_rate * param.grad\n",
    "print(param)"
   ]
  },
  {
   "cell_type": "code",
   "execution_count": 58,
   "metadata": {},
   "outputs": [
    {
     "data": {
      "text/plain": [
       "torch.Size([10, 100])"
      ]
     },
     "execution_count": 58,
     "metadata": {},
     "output_type": "execute_result"
    }
   ],
   "source": [
    "model[1].weight.shape"
   ]
  },
  {
   "cell_type": "code",
   "execution_count": 61,
   "metadata": {},
   "outputs": [
    {
     "name": "stdout",
     "output_type": "stream",
     "text": [
      "0 716.175537109375\n",
      "1 716.0016479492188\n",
      "2 715.8277587890625\n",
      "3 715.65380859375\n",
      "4 715.47998046875\n",
      "5 715.3062133789062\n",
      "6 715.1324462890625\n",
      "7 714.9586791992188\n",
      "8 714.7850341796875\n",
      "9 714.6114501953125\n",
      "10 714.4379272460938\n",
      "11 714.264404296875\n",
      "12 714.0909423828125\n",
      "13 713.91748046875\n",
      "14 713.744140625\n",
      "15 713.5707397460938\n",
      "16 713.3973999023438\n",
      "17 713.2240600585938\n",
      "18 713.0508422851562\n",
      "19 712.8776245117188\n",
      "20 712.704345703125\n",
      "21 712.5311889648438\n",
      "22 712.358154296875\n",
      "23 712.1851806640625\n",
      "24 712.0122680664062\n",
      "25 711.83935546875\n",
      "26 711.66650390625\n",
      "27 711.493896484375\n",
      "28 711.3216552734375\n",
      "29 711.1492919921875\n",
      "30 710.9769287109375\n",
      "31 710.8046264648438\n",
      "32 710.6323852539062\n",
      "33 710.4600830078125\n",
      "34 710.2879638671875\n",
      "35 710.11572265625\n",
      "36 709.9436645507812\n",
      "37 709.7716064453125\n",
      "38 709.5995483398438\n",
      "39 709.4275512695312\n",
      "40 709.255615234375\n",
      "41 709.0836791992188\n",
      "42 708.9118041992188\n",
      "43 708.7403564453125\n",
      "44 708.5689697265625\n",
      "45 708.3977661132812\n",
      "46 708.2265014648438\n",
      "47 708.0552978515625\n",
      "48 707.8841552734375\n",
      "49 707.7129516601562\n",
      "50 707.5419921875\n",
      "51 707.3710327148438\n",
      "52 707.2001342773438\n",
      "53 707.0291748046875\n",
      "54 706.8583984375\n",
      "55 706.6875\n",
      "56 706.5166625976562\n",
      "57 706.345947265625\n",
      "58 706.1754150390625\n",
      "59 706.0049438476562\n",
      "60 705.8345336914062\n",
      "61 705.6641845703125\n",
      "62 705.493896484375\n",
      "63 705.3236694335938\n",
      "64 705.1533813476562\n",
      "65 704.9834594726562\n",
      "66 704.8135375976562\n",
      "67 704.6436767578125\n",
      "68 704.4736328125\n",
      "69 704.3038940429688\n",
      "70 704.1342163085938\n",
      "71 703.9645385742188\n",
      "72 703.794921875\n",
      "73 703.6253051757812\n",
      "74 703.4557495117188\n",
      "75 703.2862548828125\n",
      "76 703.1167602539062\n",
      "77 702.9473266601562\n",
      "78 702.7779541015625\n",
      "79 702.608642578125\n",
      "80 702.4393310546875\n",
      "81 702.27001953125\n",
      "82 702.100830078125\n",
      "83 701.9317626953125\n",
      "84 701.7625122070312\n",
      "85 701.593505859375\n",
      "86 701.4246826171875\n",
      "87 701.2557983398438\n",
      "88 701.0869140625\n",
      "89 700.91796875\n",
      "90 700.7492065429688\n",
      "91 700.5803833007812\n",
      "92 700.41162109375\n",
      "93 700.2429809570312\n",
      "94 700.07421875\n",
      "95 699.9055786132812\n",
      "96 699.7371215820312\n",
      "97 699.5685424804688\n",
      "98 699.3998413085938\n",
      "99 699.231201171875\n",
      "100 699.0626831054688\n",
      "101 698.8941040039062\n",
      "102 698.7255859375\n",
      "103 698.5571899414062\n",
      "104 698.3887939453125\n",
      "105 698.2203979492188\n",
      "106 698.0518188476562\n",
      "107 697.8834838867188\n",
      "108 697.7152709960938\n",
      "109 697.5470581054688\n",
      "110 697.3788452148438\n",
      "111 697.210693359375\n",
      "112 697.042724609375\n",
      "113 696.8748168945312\n",
      "114 696.706787109375\n",
      "115 696.5388793945312\n",
      "116 696.3709716796875\n",
      "117 696.203369140625\n",
      "118 696.0357666015625\n",
      "119 695.8681030273438\n",
      "120 695.7005615234375\n",
      "121 695.5330810546875\n",
      "122 695.3656005859375\n",
      "123 695.1981811523438\n",
      "124 695.031005859375\n",
      "125 694.86376953125\n",
      "126 694.69677734375\n",
      "127 694.52978515625\n",
      "128 694.36279296875\n",
      "129 694.1957397460938\n",
      "130 694.0286865234375\n",
      "131 693.86181640625\n",
      "132 693.69482421875\n",
      "133 693.528076171875\n",
      "134 693.3615112304688\n",
      "135 693.1949462890625\n",
      "136 693.028564453125\n",
      "137 692.8619995117188\n",
      "138 692.6956176757812\n",
      "139 692.529296875\n",
      "140 692.3629150390625\n",
      "141 692.1964111328125\n",
      "142 692.0301513671875\n",
      "143 691.8639526367188\n",
      "144 691.6978759765625\n",
      "145 691.5317993164062\n",
      "146 691.3656616210938\n",
      "147 691.1995239257812\n",
      "148 691.0335693359375\n",
      "149 690.86767578125\n",
      "150 690.7020263671875\n",
      "151 690.5363159179688\n",
      "152 690.3706665039062\n",
      "153 690.2050170898438\n",
      "154 690.0393676757812\n",
      "155 689.8736572265625\n",
      "156 689.7080688476562\n",
      "157 689.542724609375\n",
      "158 689.3776245117188\n",
      "159 689.21240234375\n",
      "160 689.04736328125\n",
      "161 688.8821411132812\n",
      "162 688.717041015625\n",
      "163 688.5520629882812\n",
      "164 688.3870239257812\n",
      "165 688.2219848632812\n",
      "166 688.0571899414062\n",
      "167 687.8925170898438\n",
      "168 687.7278442382812\n",
      "169 687.563232421875\n",
      "170 687.3987426757812\n",
      "171 687.234130859375\n",
      "172 687.069580078125\n",
      "173 686.905029296875\n",
      "174 686.7406616210938\n",
      "175 686.5762329101562\n",
      "176 686.4117431640625\n",
      "177 686.2474975585938\n",
      "178 686.0833740234375\n",
      "179 685.9191284179688\n",
      "180 685.755126953125\n",
      "181 685.5909423828125\n",
      "182 685.4269409179688\n",
      "183 685.2631225585938\n",
      "184 685.0991821289062\n",
      "185 684.935302734375\n",
      "186 684.7713623046875\n",
      "187 684.6075439453125\n",
      "188 684.4436645507812\n",
      "189 684.2801513671875\n",
      "190 684.1165161132812\n",
      "191 683.9528198242188\n",
      "192 683.7891845703125\n",
      "193 683.6257934570312\n",
      "194 683.4623413085938\n",
      "195 683.2989501953125\n",
      "196 683.1356201171875\n",
      "197 682.9723510742188\n",
      "198 682.8090209960938\n",
      "199 682.645751953125\n",
      "200 682.4824829101562\n",
      "201 682.3194580078125\n",
      "202 682.15625\n",
      "203 681.9932250976562\n",
      "204 681.8302612304688\n",
      "205 681.6673583984375\n",
      "206 681.5045166015625\n",
      "207 681.3416748046875\n",
      "208 681.1788940429688\n",
      "209 681.01611328125\n",
      "210 680.8533935546875\n",
      "211 680.6907348632812\n",
      "212 680.528076171875\n",
      "213 680.3655395507812\n",
      "214 680.202880859375\n",
      "215 680.0404052734375\n",
      "216 679.8780517578125\n",
      "217 679.715576171875\n",
      "218 679.55322265625\n",
      "219 679.39111328125\n",
      "220 679.2289428710938\n",
      "221 679.06689453125\n",
      "222 678.9048461914062\n",
      "223 678.74267578125\n",
      "224 678.58056640625\n",
      "225 678.41845703125\n",
      "226 678.2564086914062\n",
      "227 678.0943603515625\n",
      "228 677.9323120117188\n",
      "229 677.7705078125\n",
      "230 677.608642578125\n",
      "231 677.4468383789062\n",
      "232 677.2850341796875\n",
      "233 677.1234130859375\n",
      "234 676.9615478515625\n",
      "235 676.7999267578125\n",
      "236 676.6382446289062\n",
      "237 676.4766845703125\n",
      "238 676.315185546875\n",
      "239 676.15380859375\n",
      "240 675.992431640625\n",
      "241 675.8309936523438\n",
      "242 675.6698608398438\n",
      "243 675.5086059570312\n",
      "244 675.3474731445312\n",
      "245 675.1861572265625\n",
      "246 675.0249633789062\n",
      "247 674.8638916015625\n",
      "248 674.702880859375\n",
      "249 674.5418701171875\n",
      "250 674.3809204101562\n",
      "251 674.2200927734375\n",
      "252 674.0591430664062\n",
      "253 673.898193359375\n",
      "254 673.7373046875\n",
      "255 673.5765380859375\n",
      "256 673.4159545898438\n",
      "257 673.2553100585938\n",
      "258 673.0947265625\n",
      "259 672.9341430664062\n",
      "260 672.7740478515625\n",
      "261 672.614013671875\n",
      "262 672.4541015625\n",
      "263 672.2940063476562\n",
      "264 672.134033203125\n",
      "265 671.97412109375\n",
      "266 671.814208984375\n",
      "267 671.654296875\n",
      "268 671.494384765625\n",
      "269 671.3345336914062\n",
      "270 671.1748046875\n",
      "271 671.0150146484375\n",
      "272 670.85546875\n",
      "273 670.6959838867188\n",
      "274 670.5364379882812\n",
      "275 670.3770141601562\n",
      "276 670.2176513671875\n",
      "277 670.058349609375\n",
      "278 669.8990478515625\n",
      "279 669.739990234375\n",
      "280 669.5809326171875\n",
      "281 669.4219360351562\n",
      "282 669.2628173828125\n",
      "283 669.103759765625\n",
      "284 668.94482421875\n",
      "285 668.7859497070312\n",
      "286 668.6273193359375\n",
      "287 668.46875\n",
      "288 668.31005859375\n",
      "289 668.1514282226562\n",
      "290 667.9927368164062\n",
      "291 667.8341674804688\n",
      "292 667.6755981445312\n",
      "293 667.51708984375\n",
      "294 667.3587646484375\n",
      "295 667.2003173828125\n",
      "296 667.0420532226562\n",
      "297 666.8837280273438\n",
      "298 666.7256469726562\n",
      "299 666.56787109375\n",
      "300 666.4100341796875\n",
      "301 666.2520751953125\n",
      "302 666.09423828125\n",
      "303 665.9363403320312\n",
      "304 665.778564453125\n",
      "305 665.620849609375\n",
      "306 665.4632568359375\n",
      "307 665.3057250976562\n",
      "308 665.1482543945312\n",
      "309 664.9909057617188\n",
      "310 664.8336181640625\n",
      "311 664.6761474609375\n",
      "312 664.5189208984375\n",
      "313 664.3616943359375\n",
      "314 664.2047119140625\n",
      "315 664.0480346679688\n",
      "316 663.8911743164062\n",
      "317 663.734375\n",
      "318 663.5777587890625\n",
      "319 663.4210205078125\n",
      "320 663.26416015625\n",
      "321 663.107421875\n",
      "322 662.9505615234375\n",
      "323 662.7938232421875\n",
      "324 662.6373291015625\n",
      "325 662.4810180664062\n",
      "326 662.3248291015625\n",
      "327 662.1682739257812\n",
      "328 662.011962890625\n",
      "329 661.855712890625\n",
      "330 661.6995239257812\n",
      "331 661.5433349609375\n",
      "332 661.3870239257812\n",
      "333 661.2308959960938\n",
      "334 661.0748901367188\n",
      "335 660.9188842773438\n",
      "336 660.7627563476562\n",
      "337 660.6068115234375\n",
      "338 660.450927734375\n",
      "339 660.2950439453125\n",
      "340 660.1392822265625\n",
      "341 659.9835205078125\n",
      "342 659.8278198242188\n",
      "343 659.6723022460938\n",
      "344 659.5166015625\n",
      "345 659.361083984375\n",
      "346 659.2057495117188\n",
      "347 659.0502319335938\n",
      "348 658.894775390625\n",
      "349 658.7393798828125\n",
      "350 658.583984375\n",
      "351 658.4287109375\n",
      "352 658.2733154296875\n",
      "353 658.1182250976562\n",
      "354 657.9630126953125\n",
      "355 657.8079223632812\n",
      "356 657.65283203125\n",
      "357 657.497802734375\n",
      "358 657.3427734375\n",
      "359 657.1876831054688\n",
      "360 657.0327758789062\n",
      "361 656.8778076171875\n",
      "362 656.72314453125\n",
      "363 656.5681762695312\n",
      "364 656.4134521484375\n",
      "365 656.2587280273438\n",
      "366 656.1041259765625\n",
      "367 655.949462890625\n",
      "368 655.7947998046875\n",
      "369 655.6402587890625\n",
      "370 655.4857788085938\n",
      "371 655.3311767578125\n",
      "372 655.1767578125\n",
      "373 655.0223388671875\n",
      "374 654.8679809570312\n",
      "375 654.7136840820312\n",
      "376 654.5593872070312\n",
      "377 654.405029296875\n",
      "378 654.2507934570312\n",
      "379 654.0966796875\n",
      "380 653.9424438476562\n",
      "381 653.788330078125\n",
      "382 653.63427734375\n",
      "383 653.480224609375\n",
      "384 653.3262329101562\n",
      "385 653.1722412109375\n",
      "386 653.0181884765625\n",
      "387 652.8644409179688\n"
     ]
    },
    {
     "name": "stdout",
     "output_type": "stream",
     "text": [
      "388 652.7105712890625\n",
      "389 652.5568237304688\n",
      "390 652.403076171875\n",
      "391 652.2493896484375\n",
      "392 652.0957641601562\n",
      "393 651.9420166015625\n",
      "394 651.7885131835938\n",
      "395 651.6348876953125\n",
      "396 651.4815673828125\n",
      "397 651.3281860351562\n",
      "398 651.1748046875\n",
      "399 651.021484375\n",
      "400 650.8680419921875\n",
      "401 650.7147216796875\n",
      "402 650.5615844726562\n",
      "403 650.4083862304688\n",
      "404 650.2552490234375\n",
      "405 650.1019287109375\n",
      "406 649.94873046875\n",
      "407 649.7958374023438\n",
      "408 649.6427612304688\n",
      "409 649.48974609375\n",
      "410 649.3368530273438\n",
      "411 649.1839599609375\n",
      "412 649.0310668945312\n",
      "413 648.8783569335938\n",
      "414 648.7255859375\n",
      "415 648.57275390625\n",
      "416 648.4201049804688\n",
      "417 648.2674560546875\n",
      "418 648.114990234375\n",
      "419 647.9623413085938\n",
      "420 647.809814453125\n",
      "421 647.6574096679688\n",
      "422 647.5050659179688\n",
      "423 647.3529052734375\n",
      "424 647.2005615234375\n",
      "425 647.0482788085938\n",
      "426 646.8961791992188\n",
      "427 646.7440795898438\n",
      "428 646.5918579101562\n",
      "429 646.4400634765625\n",
      "430 646.2882690429688\n",
      "431 646.1363525390625\n",
      "432 645.984375\n",
      "433 645.8323364257812\n",
      "434 645.6803588867188\n",
      "435 645.5281372070312\n",
      "436 645.3760375976562\n",
      "437 645.22412109375\n",
      "438 645.072265625\n",
      "439 644.92041015625\n",
      "440 644.7685546875\n",
      "441 644.6166381835938\n",
      "442 644.4649047851562\n",
      "443 644.31298828125\n",
      "444 644.1611938476562\n",
      "445 644.00927734375\n",
      "446 643.857666015625\n",
      "447 643.7059936523438\n",
      "448 643.5545654296875\n",
      "449 643.403076171875\n",
      "450 643.2515869140625\n",
      "451 643.0999755859375\n",
      "452 642.9487915039062\n",
      "453 642.7974853515625\n",
      "454 642.6461181640625\n",
      "455 642.494873046875\n",
      "456 642.343505859375\n",
      "457 642.1922607421875\n",
      "458 642.0411376953125\n",
      "459 641.89013671875\n",
      "460 641.7390747070312\n",
      "461 641.5880126953125\n",
      "462 641.43701171875\n",
      "463 641.2861328125\n",
      "464 641.1351318359375\n",
      "465 640.984375\n",
      "466 640.83349609375\n",
      "467 640.6827392578125\n",
      "468 640.5318603515625\n",
      "469 640.38134765625\n",
      "470 640.2308959960938\n",
      "471 640.0802001953125\n",
      "472 639.9296264648438\n",
      "473 639.779052734375\n",
      "474 639.6285400390625\n",
      "475 639.4781494140625\n",
      "476 639.3278198242188\n",
      "477 639.177490234375\n",
      "478 639.027099609375\n",
      "479 638.8767700195312\n",
      "480 638.7263793945312\n",
      "481 638.5760498046875\n",
      "482 638.4257202148438\n",
      "483 638.2755126953125\n",
      "484 638.1253051757812\n",
      "485 637.97509765625\n",
      "486 637.82470703125\n",
      "487 637.6744384765625\n",
      "488 637.5242919921875\n",
      "489 637.3742065429688\n",
      "490 637.224365234375\n",
      "491 637.0742797851562\n",
      "492 636.9241333007812\n",
      "493 636.774169921875\n",
      "494 636.6242065429688\n",
      "495 636.474609375\n",
      "496 636.3250122070312\n",
      "497 636.1753540039062\n",
      "498 636.0257568359375\n",
      "499 635.8760986328125\n"
     ]
    }
   ],
   "source": [
    "x=torch.randn(64,1000)\n",
    "y=torch.randn(64,10)\n",
    "learning_rate=0.000001\n",
    "from torch import nn \n",
    "N,D_in,H,D_out = 64,1000,100,10\n",
    "x = torch.randn(N,D_in)\n",
    "y = torch.randn(N,D_out)\n",
    "model = nn.Sequential(nn.Linear(D_in,H),\n",
    "                      nn.ReLU(),\n",
    "                      nn.Linear(H,D_out))\n",
    "loss_fn = nn.MSELoss(reduction='sum')\n",
    "optimizer=torch.optim.Adam(model.parameters(),lr=learning_rate)\n",
    "for i in range(500):\n",
    "    y_predict = model(x)\n",
    "    loss =loss_fn(y_predict,y)\n",
    "    print(i,loss.item())\n",
    "    model.zero_grad()\n",
    "    optimizer.zero_grad()\n",
    "    loss.backward()\n",
    "    optimizer.step()"
   ]
  },
  {
   "cell_type": "code",
   "execution_count": 66,
   "metadata": {},
   "outputs": [
    {
     "name": "stdout",
     "output_type": "stream",
     "text": [
      "0 620.5723266601562\n",
      "1 618.9085083007812\n",
      "2 617.247802734375\n",
      "3 615.5916748046875\n",
      "4 613.944091796875\n",
      "5 612.302001953125\n",
      "6 610.6644287109375\n",
      "7 609.029541015625\n",
      "8 607.3983764648438\n",
      "9 605.7724609375\n",
      "10 604.1495971679688\n",
      "11 602.5313110351562\n",
      "12 600.9183349609375\n",
      "13 599.3115234375\n",
      "14 597.7098999023438\n",
      "15 596.11181640625\n",
      "16 594.517822265625\n",
      "17 592.92822265625\n",
      "18 591.3436889648438\n",
      "19 589.763916015625\n",
      "20 588.18798828125\n",
      "21 586.61669921875\n",
      "22 585.0516357421875\n",
      "23 583.4934692382812\n",
      "24 581.9389038085938\n",
      "25 580.3873901367188\n",
      "26 578.8426513671875\n",
      "27 577.3026123046875\n",
      "28 575.7679443359375\n",
      "29 574.2388916015625\n",
      "30 572.7171020507812\n",
      "31 571.1976928710938\n",
      "32 569.6841430664062\n",
      "33 568.1736450195312\n",
      "34 566.6668701171875\n",
      "35 565.1654663085938\n",
      "36 563.6692504882812\n",
      "37 562.1804809570312\n",
      "38 560.6972045898438\n",
      "39 559.21826171875\n",
      "40 557.745361328125\n",
      "41 556.2776489257812\n",
      "42 554.8208618164062\n",
      "43 553.3710327148438\n",
      "44 551.9230346679688\n",
      "45 550.4802856445312\n",
      "46 549.0408325195312\n",
      "47 547.604736328125\n",
      "48 546.173583984375\n",
      "49 544.7498779296875\n",
      "50 543.3330078125\n",
      "51 541.91845703125\n",
      "52 540.5086059570312\n",
      "53 539.1015625\n",
      "54 537.698974609375\n",
      "55 536.3021240234375\n",
      "56 534.9111328125\n",
      "57 533.5239868164062\n",
      "58 532.142822265625\n",
      "59 530.7701416015625\n",
      "60 529.4014282226562\n",
      "61 528.0360717773438\n",
      "62 526.673583984375\n",
      "63 525.3128662109375\n",
      "64 523.9541625976562\n",
      "65 522.5968017578125\n",
      "66 521.2439575195312\n",
      "67 519.8959350585938\n",
      "68 518.5513305664062\n",
      "69 517.2083129882812\n",
      "70 515.8690795898438\n",
      "71 514.5336303710938\n",
      "72 513.201171875\n",
      "73 511.8714599609375\n",
      "74 510.5468444824219\n",
      "75 509.2277526855469\n",
      "76 507.9126281738281\n",
      "77 506.6001892089844\n",
      "78 505.29241943359375\n",
      "79 503.9945983886719\n",
      "80 502.6980285644531\n",
      "81 501.403564453125\n",
      "82 500.1158142089844\n",
      "83 498.8297119140625\n",
      "84 497.5455627441406\n",
      "85 496.26629638671875\n",
      "86 494.9896240234375\n",
      "87 493.7164611816406\n",
      "88 492.4475402832031\n",
      "89 491.18157958984375\n",
      "90 489.92449951171875\n",
      "91 488.6701354980469\n",
      "92 487.41827392578125\n",
      "93 486.17034912109375\n",
      "94 484.9232177734375\n",
      "95 483.67718505859375\n",
      "96 482.4365539550781\n",
      "97 481.1989440917969\n",
      "98 479.9630126953125\n",
      "99 478.73052978515625\n",
      "100 477.49981689453125\n",
      "101 476.2765808105469\n",
      "102 475.0565490722656\n",
      "103 473.8423767089844\n",
      "104 472.63372802734375\n",
      "105 471.42755126953125\n",
      "106 470.2239685058594\n",
      "107 469.0224304199219\n",
      "108 467.8260803222656\n",
      "109 466.6335754394531\n",
      "110 465.4466552734375\n",
      "111 464.2655334472656\n",
      "112 463.08587646484375\n",
      "113 461.9091796875\n",
      "114 460.73455810546875\n",
      "115 459.565185546875\n",
      "116 458.3983459472656\n",
      "117 457.23541259765625\n",
      "118 456.0758056640625\n",
      "119 454.9214172363281\n",
      "120 453.76971435546875\n",
      "121 452.6206970214844\n",
      "122 451.4733581542969\n",
      "123 450.32867431640625\n",
      "124 449.1875\n",
      "125 448.0484924316406\n",
      "126 446.9140625\n",
      "127 445.78143310546875\n",
      "128 444.65087890625\n",
      "129 443.52301025390625\n",
      "130 442.4003601074219\n",
      "131 441.2813415527344\n",
      "132 440.1658935546875\n",
      "133 439.0553283691406\n",
      "134 437.9469909667969\n",
      "135 436.8419494628906\n",
      "136 435.7374572753906\n",
      "137 434.63677978515625\n",
      "138 433.54156494140625\n",
      "139 432.4484558105469\n",
      "140 431.36053466796875\n",
      "141 430.2760009765625\n",
      "142 429.1934509277344\n",
      "143 428.11474609375\n",
      "144 427.04022216796875\n",
      "145 425.96710205078125\n",
      "146 424.89764404296875\n",
      "147 423.82965087890625\n",
      "148 422.7634582519531\n",
      "149 421.7008972167969\n",
      "150 420.6419677734375\n",
      "151 419.5874328613281\n",
      "152 418.5357666015625\n",
      "153 417.485107421875\n",
      "154 416.4364318847656\n",
      "155 415.390869140625\n",
      "156 414.35028076171875\n",
      "157 413.3121643066406\n",
      "158 412.2769470214844\n",
      "159 411.247314453125\n",
      "160 410.22039794921875\n",
      "161 409.1964111328125\n",
      "162 408.1767578125\n",
      "163 407.15838623046875\n",
      "164 406.1420593261719\n",
      "165 405.1305236816406\n",
      "166 404.1189270019531\n",
      "167 403.10906982421875\n",
      "168 402.10284423828125\n",
      "169 401.0989074707031\n",
      "170 400.09918212890625\n",
      "171 399.1026916503906\n",
      "172 398.1081237792969\n",
      "173 397.1157531738281\n",
      "174 396.1283874511719\n",
      "175 395.14300537109375\n",
      "176 394.15869140625\n",
      "177 393.1787109375\n",
      "178 392.2027893066406\n",
      "179 391.22998046875\n",
      "180 390.2585144042969\n",
      "181 389.2911682128906\n",
      "182 388.326416015625\n",
      "183 387.3637390136719\n",
      "184 386.40179443359375\n",
      "185 385.4429626464844\n",
      "186 384.4871826171875\n",
      "187 383.5352783203125\n",
      "188 382.58544921875\n",
      "189 381.63836669921875\n",
      "190 380.6938171386719\n",
      "191 379.750732421875\n",
      "192 378.8091735839844\n",
      "193 377.8710632324219\n",
      "194 376.9361877441406\n",
      "195 376.00384521484375\n",
      "196 375.0730285644531\n",
      "197 374.1443786621094\n",
      "198 373.21881103515625\n",
      "199 372.29656982421875\n",
      "200 371.3760986328125\n",
      "201 370.4569091796875\n",
      "202 369.5412292480469\n",
      "203 368.6273193359375\n",
      "204 367.7148132324219\n",
      "205 366.8040466308594\n",
      "206 365.89666748046875\n",
      "207 364.9917297363281\n",
      "208 364.08642578125\n",
      "209 363.18414306640625\n",
      "210 362.2833251953125\n",
      "211 361.3865966796875\n",
      "212 360.49029541015625\n",
      "213 359.5963439941406\n",
      "214 358.70611572265625\n",
      "215 357.8176574707031\n",
      "216 356.9306945800781\n",
      "217 356.04443359375\n",
      "218 355.16046142578125\n",
      "219 354.2791442871094\n",
      "220 353.4000549316406\n",
      "221 352.52130126953125\n",
      "222 351.6445617675781\n",
      "223 350.77020263671875\n",
      "224 349.89862060546875\n",
      "225 349.02947998046875\n",
      "226 348.1618347167969\n",
      "227 347.29638671875\n",
      "228 346.43316650390625\n",
      "229 345.57183837890625\n",
      "230 344.71539306640625\n",
      "231 343.8624572753906\n",
      "232 343.0126647949219\n",
      "233 342.1650695800781\n",
      "234 341.3189697265625\n",
      "235 340.47442626953125\n",
      "236 339.6343688964844\n",
      "237 338.79486083984375\n",
      "238 337.9587707519531\n",
      "239 337.12298583984375\n",
      "240 336.2904968261719\n",
      "241 335.4612121582031\n",
      "242 334.6331787109375\n",
      "243 333.8075866699219\n",
      "244 332.98309326171875\n",
      "245 332.1603698730469\n",
      "246 331.33953857421875\n",
      "247 330.51934814453125\n",
      "248 329.70147705078125\n",
      "249 328.88775634765625\n",
      "250 328.0759582519531\n",
      "251 327.26666259765625\n",
      "252 326.45684814453125\n",
      "253 325.6496887207031\n",
      "254 324.8451232910156\n",
      "255 324.0419921875\n",
      "256 323.2399597167969\n",
      "257 322.4396057128906\n",
      "258 321.6415100097656\n",
      "259 320.8450012207031\n",
      "260 320.05126953125\n",
      "261 319.26312255859375\n",
      "262 318.4764404296875\n",
      "263 317.69085693359375\n",
      "264 316.90802001953125\n",
      "265 316.1279296875\n",
      "266 315.35028076171875\n",
      "267 314.5733337402344\n",
      "268 313.7986755371094\n",
      "269 313.0263366699219\n",
      "270 312.25640869140625\n",
      "271 311.48797607421875\n",
      "272 310.72003173828125\n",
      "273 309.95404052734375\n",
      "274 309.18890380859375\n",
      "275 308.42669677734375\n",
      "276 307.66583251953125\n",
      "277 306.9053649902344\n",
      "278 306.1470031738281\n",
      "279 305.39154052734375\n",
      "280 304.6370849609375\n",
      "281 303.8839111328125\n",
      "282 303.13311767578125\n",
      "283 302.38470458984375\n",
      "284 301.636962890625\n",
      "285 300.8907165527344\n",
      "286 300.1479797363281\n",
      "287 299.4082336425781\n",
      "288 298.6709899902344\n",
      "289 297.9342041015625\n",
      "290 297.19842529296875\n",
      "291 296.46417236328125\n",
      "292 295.7310791015625\n",
      "293 295.0004577636719\n",
      "294 294.2716369628906\n",
      "295 293.54400634765625\n",
      "296 292.8169860839844\n",
      "297 292.0923767089844\n",
      "298 291.3688659667969\n",
      "299 290.646484375\n",
      "300 289.92803955078125\n",
      "301 289.2094421386719\n",
      "302 288.4922180175781\n",
      "303 287.7760314941406\n",
      "304 287.060302734375\n",
      "305 286.3468017578125\n",
      "306 285.63739013671875\n",
      "307 284.9279479980469\n",
      "308 284.2188720703125\n",
      "309 283.5129699707031\n",
      "310 282.81024169921875\n",
      "311 282.107421875\n",
      "312 281.40606689453125\n",
      "313 280.70538330078125\n",
      "314 280.0076904296875\n",
      "315 279.3092346191406\n",
      "316 278.614501953125\n",
      "317 277.92254638671875\n",
      "318 277.2300109863281\n",
      "319 276.5406188964844\n",
      "320 275.85382080078125\n",
      "321 275.1689147949219\n",
      "322 274.4835510253906\n",
      "323 273.8024597167969\n",
      "324 273.12396240234375\n",
      "325 272.4451904296875\n",
      "326 271.7701110839844\n",
      "327 271.095947265625\n",
      "328 270.4248352050781\n",
      "329 269.75469970703125\n",
      "330 269.08807373046875\n",
      "331 268.4235534667969\n",
      "332 267.76068115234375\n",
      "333 267.0978698730469\n",
      "334 266.43701171875\n",
      "335 265.7769470214844\n",
      "336 265.1183166503906\n",
      "337 264.4625244140625\n",
      "338 263.80712890625\n",
      "339 263.1539306640625\n",
      "340 262.50213623046875\n",
      "341 261.8515319824219\n",
      "342 261.2025451660156\n",
      "343 260.555419921875\n",
      "344 259.9093933105469\n",
      "345 259.2637634277344\n",
      "346 258.6202392578125\n",
      "347 257.9786376953125\n",
      "348 257.3382568359375\n",
      "349 256.7001953125\n",
      "350 256.0631408691406\n",
      "351 255.4272918701172\n",
      "352 254.79296875\n",
      "353 254.15858459472656\n",
      "354 253.5260009765625\n",
      "355 252.8951416015625\n",
      "356 252.26629638671875\n",
      "357 251.63894653320312\n",
      "358 251.01199340820312\n",
      "359 250.38699340820312\n",
      "360 249.76580810546875\n",
      "361 249.14666748046875\n",
      "362 248.52838134765625\n",
      "363 247.91355895996094\n",
      "364 247.29995727539062\n",
      "365 246.68829345703125\n",
      "366 246.077880859375\n",
      "367 245.46853637695312\n",
      "368 244.85984802246094\n",
      "369 244.25193786621094\n",
      "370 243.6463165283203\n",
      "371 243.0427703857422\n",
      "372 242.43991088867188\n",
      "373 241.83700561523438\n",
      "374 241.2359161376953\n",
      "375 240.63555908203125\n",
      "376 240.0369873046875\n",
      "377 239.43896484375\n"
     ]
    },
    {
     "name": "stdout",
     "output_type": "stream",
     "text": [
      "378 238.842529296875\n",
      "379 238.2478790283203\n",
      "380 237.65673828125\n",
      "381 237.06683349609375\n",
      "382 236.47669982910156\n",
      "383 235.88735961914062\n",
      "384 235.29989624023438\n",
      "385 234.71351623535156\n",
      "386 234.1287841796875\n",
      "387 233.5454559326172\n",
      "388 232.9623565673828\n",
      "389 232.38046264648438\n",
      "390 231.79971313476562\n",
      "391 231.2201690673828\n",
      "392 230.64132690429688\n",
      "393 230.0634765625\n",
      "394 229.48670959472656\n",
      "395 228.91192626953125\n",
      "396 228.33758544921875\n",
      "397 227.76429748535156\n",
      "398 227.19212341308594\n",
      "399 226.622314453125\n",
      "400 226.05438232421875\n",
      "401 225.48866271972656\n",
      "402 224.92335510253906\n",
      "403 224.3596954345703\n",
      "404 223.79800415039062\n",
      "405 223.23724365234375\n",
      "406 222.6771240234375\n",
      "407 222.11940002441406\n",
      "408 221.56231689453125\n",
      "409 221.00662231445312\n",
      "410 220.45155334472656\n",
      "411 219.8981475830078\n",
      "412 219.34620666503906\n",
      "413 218.795166015625\n",
      "414 218.2480010986328\n",
      "415 217.70205688476562\n",
      "416 217.15866088867188\n",
      "417 216.6160888671875\n",
      "418 216.07582092285156\n",
      "419 215.5364227294922\n",
      "420 214.99856567382812\n",
      "421 214.46127319335938\n",
      "422 213.9248046875\n",
      "423 213.38876342773438\n",
      "424 212.85337829589844\n",
      "425 212.32005310058594\n",
      "426 211.78709411621094\n",
      "427 211.2563018798828\n",
      "428 210.7248992919922\n",
      "429 210.1943359375\n",
      "430 209.66465759277344\n",
      "431 209.13870239257812\n",
      "432 208.6129608154297\n",
      "433 208.08782958984375\n",
      "434 207.56346130371094\n",
      "435 207.03958129882812\n",
      "436 206.51644897460938\n",
      "437 205.99378967285156\n",
      "438 205.47149658203125\n",
      "439 204.9510040283203\n",
      "440 204.43177795410156\n",
      "441 203.91323852539062\n",
      "442 203.39584350585938\n",
      "443 202.8799285888672\n",
      "444 202.36500549316406\n",
      "445 201.85107421875\n",
      "446 201.33847045898438\n",
      "447 200.82781982421875\n",
      "448 200.3181610107422\n",
      "449 199.8096466064453\n",
      "450 199.30316162109375\n",
      "451 198.79824829101562\n",
      "452 198.29434204101562\n",
      "453 197.7920684814453\n",
      "454 197.2900390625\n",
      "455 196.78811645507812\n",
      "456 196.28831481933594\n",
      "457 195.78884887695312\n",
      "458 195.29141235351562\n",
      "459 194.79486083984375\n",
      "460 194.2999725341797\n",
      "461 193.80535888671875\n",
      "462 193.3118438720703\n",
      "463 192.81964111328125\n",
      "464 192.3282470703125\n",
      "465 191.8378143310547\n",
      "466 191.347900390625\n",
      "467 190.85882568359375\n",
      "468 190.37109375\n",
      "469 189.8848876953125\n",
      "470 189.3988494873047\n",
      "471 188.91502380371094\n",
      "472 188.43231201171875\n",
      "473 187.94976806640625\n",
      "474 187.4686279296875\n",
      "475 186.98838806152344\n",
      "476 186.5089569091797\n",
      "477 186.0298614501953\n",
      "478 185.55178833007812\n",
      "479 185.07369995117188\n",
      "480 184.59591674804688\n",
      "481 184.11968994140625\n",
      "482 183.64404296875\n",
      "483 183.16773986816406\n",
      "484 182.69349670410156\n",
      "485 182.2201690673828\n",
      "486 181.74708557128906\n",
      "487 181.2748260498047\n",
      "488 180.80404663085938\n",
      "489 180.33323669433594\n",
      "490 179.8643035888672\n",
      "491 179.395751953125\n",
      "492 178.9281463623047\n",
      "493 178.46160888671875\n",
      "494 177.9963836669922\n",
      "495 177.53182983398438\n",
      "496 177.06838989257812\n",
      "497 176.60546875\n",
      "498 176.143798828125\n",
      "499 175.68260192871094\n"
     ]
    }
   ],
   "source": [
    "x=torch.randn(64,1000)\n",
    "y=torch.randn(64,10)\n",
    "learning_rate=0.00001\n",
    "from torch import nn \n",
    "N,D_in,H,D_out = 64,1000,100,10\n",
    "x = torch.randn(N,D_in)\n",
    "y = torch.randn(N,D_out)\n",
    "\n",
    "class TwoLayerNet(torch.nn.Module):\n",
    "    def __init__(self,D_in,H,D_out):\n",
    "        super(TwoLayerNet,self).__init__() #继承父类\n",
    "        self.linear1=nn.Linear(D_in,H,bias=False)\n",
    "        self.linear2=nn.Linear(H,D_out,bias=False)\n",
    "    def forward(self,x):\n",
    "        y_predict=self.linear2(self.linear1(x).clamp(min=0))\n",
    "        return y_predict\n",
    "        \n",
    "model = TwoLayerNet(D_in,H,D_out)\n",
    "loss_fn = nn.MSELoss(reduction='sum')\n",
    "optimizer=torch.optim.Adam(model.parameters(),lr=learning_rate)\n",
    "for i in range(500):\n",
    "    y_predict = model(x)\n",
    "    loss =loss_fn(y_predict,y)\n",
    "    print(i,loss.item())\n",
    "    model.zero_grad()\n",
    "    optimizer.zero_grad()\n",
    "    loss.backward()\n",
    "    optimizer.step()"
   ]
  },
  {
   "cell_type": "code",
   "execution_count": null,
   "metadata": {},
   "outputs": [],
   "source": []
  }
 ],
 "metadata": {
  "kernelspec": {
   "display_name": "Python 3",
   "language": "python",
   "name": "python3"
  },
  "language_info": {
   "codemirror_mode": {
    "name": "ipython",
    "version": 3
   },
   "file_extension": ".py",
   "mimetype": "text/x-python",
   "name": "python",
   "nbconvert_exporter": "python",
   "pygments_lexer": "ipython3",
   "version": "3.7.0"
  }
 },
 "nbformat": 4,
 "nbformat_minor": 2
}
